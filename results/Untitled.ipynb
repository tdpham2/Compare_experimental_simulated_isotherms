{
 "cells": [
  {
   "cell_type": "code",
   "execution_count": 28,
   "id": "1f8a6be9",
   "metadata": {},
   "outputs": [],
   "source": [
    "from ase.io import read\n",
    "import json\n",
    "from collections import defaultdict\n",
    "import matplotlib.pyplot as plt"
   ]
  },
  {
   "cell_type": "code",
   "execution_count": 29,
   "id": "b4cd7979",
   "metadata": {},
   "outputs": [
    {
     "name": "stdout",
     "output_type": "stream",
     "text": [
      "140\n",
      "137\n"
     ]
    }
   ],
   "source": [
    "with open('converted_unit.json', 'r') as f:\n",
    "    experiments = json.load(f)\n",
    "with open('test.json', 'r') as f:\n",
    "    simulations = json.load(f)\n",
    "    \n",
    "print(len(list(experiments)))\n",
    "print(len(list(simulations)))"
   ]
  },
  {
   "cell_type": "code",
   "execution_count": 50,
   "id": "5decd387",
   "metadata": {},
   "outputs": [],
   "source": [
    "def get_data_from_json(list1, sim=True):\n",
    "    if sim == True:\n",
    "        pressures = []\n",
    "        uptakes = []\n",
    "        errors = []\n",
    "        \n",
    "        for value in list1:\n",
    "            if value['pressure'] < 1000:\n",
    "                continue\n",
    "            else:\n",
    "                pressures.append(value['pressure'])\n",
    "                uptakes.append(value['uptake'])\n",
    "                errors.append(value['error'])\n",
    "        return pressures, uptakes, errors\n",
    "    else:\n",
    "        pressures = []\n",
    "        uptakes = []\n",
    "        for value in list1:\n",
    "            pressures.append(value['pressure'])\n",
    "            uptakes.append(value['uptake'])\n",
    "        return pressures, uptakes"
   ]
  },
  {
   "cell_type": "code",
   "execution_count": 60,
   "id": "b9697417",
   "metadata": {},
   "outputs": [
    {
     "name": "stdout",
     "output_type": "stream",
     "text": [
      "5350\n",
      "5350\n"
     ]
    }
   ],
   "source": [
    "temperatures = defaultdict(lambda:0)\n",
    "adsorbates = defaultdict(lambda:0)\n",
    "adsorbents = defaultdict(lambda:0)\n",
    "\n",
    "final_simp = []\n",
    "final_simu = []\n",
    "final_sime = []\n",
    "\n",
    "final_expp = []\n",
    "final_expu = []\n",
    "\n",
    "\n",
    "for doi in list(simulations):\n",
    "    for iso in list(simulations[doi]):\n",
    "        sim_data = simulations[doi][iso]\n",
    "        exp_data = experiments[doi][iso]\n",
    "        \n",
    "        temperatures[exp_data['temperature']] += 1\n",
    "        adsorbates[exp_data['adsorbate']] += 1\n",
    "        adsorbents[exp_data['adsorbent']] += 1\n",
    "        exp_iso = exp_data['isotherm_data']\n",
    "        \n",
    "        simp, simu, sime = get_data_from_json(sim_data)\n",
    "        expp, expu = get_data_from_json(exp_iso, sim=False)\n",
    "        \n",
    "        compare_expp = []\n",
    "        compare_expu = []\n",
    "        compare_simu = []\n",
    "        compare_simp = []\n",
    "        compare_sime = []\n",
    "        \n",
    "        for scount, sp in enumerate(simp):\n",
    "            check_match = False\n",
    "            for ecount, ep in enumerate(expp):\n",
    "                if abs(sp - ep) < 1:\n",
    "                    compare_expp.append(ep)\n",
    "                    compare_expu.append(expu[ecount])\n",
    "                    compare_simp.append(sp)\n",
    "                    compare_simu.append(simu[scount])\n",
    "                    compare_sime.append(sime[scount])\n",
    "                    check_match = True\n",
    "                    break\n",
    "                else:\n",
    "                    continue\n",
    "        if len(compare_simp) != len(compare_expp):\n",
    "            print(iso)\n",
    "            print(simp, compare_expp)\n",
    "            \n",
    "        for i, j, k in zip(compare_simp, compare_simu, compare_sime):\n",
    "            final_simp.append(i)\n",
    "            final_simu.append(j)\n",
    "            final_sime.append(k)\n",
    "        for i, j in zip(compare_expp, compare_expu):\n",
    "            final_expp.append(i)\n",
    "            final_expu.append(j)\n",
    "            \n",
    "        test = [i - j for i, j in zip(compare_simu, compare_)]final_simu - final_expu"
   ]
  },
  {
   "cell_type": "code",
   "execution_count": 68,
   "id": "fddc9bf1",
   "metadata": {},
   "outputs": [
    {
     "name": "stdout",
     "output_type": "stream",
     "text": [
      "148602.62776919812\n"
     ]
    },
    {
     "data": {
      "text/plain": [
       "(0.0, 100000.0)"
      ]
     },
     "execution_count": 68,
     "metadata": {},
     "output_type": "execute_result"
    },
    {
     "data": {
      "image/png": "[encoded data removed]",
      "text/plain": [
       "<Figure size 432x288 with 1 Axes>"
      ]
     },
     "metadata": {
      "needs_background": "light"
     },
     "output_type": "display_data"
    }
   ],
   "source": [
    "uptake_diff = [i - j for i, j in zip(final_simu, final_expu)]\n",
    "print(max(uptake_diff))\n",
    "fig, ax = plt.subplots()\n",
    "ax.scatter(final_simp, uptake_diff, s=5)\n",
    "ax.set_ylim(-2000, 2000)\n",
    "ax.set_xlim(0, 100000)"
   ]
  },
  {
   "cell_type": "code",
   "execution_count": null,
   "id": "914060b1",
   "metadata": {},
   "outputs": [],
   "source": []
  }
 ],
 "metadata": {
  "kernelspec": {
   "display_name": "Python 3",
   "language": "python",
   "name": "python3"
  },
  "language_info": {
   "codemirror_mode": {
    "name": "ipython",
    "version": 3
   },
   "file_extension": ".py",
   "mimetype": "text/x-python",
   "name": "python",
   "nbconvert_exporter": "python",
   "pygments_lexer": "ipython3",
   "version": "3.8.8"
  }
 },
 "nbformat": 4,
 "nbformat_minor": 5
}
