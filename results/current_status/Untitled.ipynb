{
 "cells": [
  {
   "cell_type": "code",
   "execution_count": 20,
   "id": "6eed2dc7",
   "metadata": {},
   "outputs": [],
   "source": [
    "import pandas as pd\n",
    "import matplotlib as plt\n",
    "import json\n",
    "import matplotlib.pyplot as plt\n",
    "import numpy as np\n",
    "\n",
    "pd.set_option('display.max_rows', None)\n",
    "pd.set_option('display.max_columns', None)\n"
   ]
  },
  {
   "cell_type": "code",
   "execution_count": 10,
   "id": "9be035c7",
   "metadata": {},
   "outputs": [],
   "source": [
    "df_temp = pd.read_csv('temporary_results.csv', header=0)"
   ]
  },
  {
   "cell_type": "code",
   "execution_count": 33,
   "id": "cf6a1125",
   "metadata": {},
   "outputs": [
    {
     "data": {
      "image/png": "[encoded data removed]",
      "text/plain": [
       "<Figure size 576x576 with 1 Axes>"
      ]
     },
     "metadata": {
      "needs_background": "light"
     },
     "output_type": "display_data"
    }
   ],
   "source": [
    "df_temp_sorted = df_temp.groupby(['adsorbate', 'T']).size().reset_index().rename(columns={0:'count'}).sort_values(by='count', ascending=False)\n",
    "df_temp_plot = df_temp_sorted[df_temp_sorted['count'] > 100]\n",
    "\n",
    "fig, ax = plt.subplots(figsize=(8, 8))\n",
    "labels = [r\"N$_2$-77K\", r\"H$_2$-77K\", r\"CO$_2$-273K\", r\"CO$_2$-298K\", r\"CO$_2$-195K\", \n",
    "          r\"CH$_4$-298K\", r\"CH$_4$-273K\", r\"H$_2$-77K\", r\"N$_2$-298K\", r\"N$_2$-273K\"]\n",
    "\n",
    "\n",
    "ax.bar(np.arange(10), df_temp_plot['count'])\n",
    "ax.set_xticks(np.arange(10))\n",
    "ax.set_xticklabels(labels, rotation=90, fontsize=22)\n",
    "ax.set_ylabel('Count', fontsize=22)\n",
    "ax.set_yticks([0, 200, 400, 600, 800, 1000, 1200])\n",
    "ax.set_yticklabels([0, 200, 400, 600, 800, 1000, 1200], fontsize=22)\n",
    "fig.savefig(\"Distributions_of_isotherms_by_adsorbate_and_temperature.png\", dpi=600, bbox_inches='tight')"
   ]
  },
  {
   "cell_type": "code",
   "execution_count": 28,
   "id": "cc65b95a",
   "metadata": {},
   "outputs": [
    {
     "name": "stderr",
     "output_type": "stream",
     "text": [
      "<ipython-input-28-62384a7845e1>:3: SettingWithCopyWarning: \n",
      "A value is trying to be set on a copy of a slice from a DataFrame\n",
      "\n",
      "See the caveats in the documentation: https://pandas.pydata.org/pandas-docs/stable/user_guide/indexing.html#returning-a-view-versus-a-copy\n",
      "  df_sa.dropna(subset=['CSD Ref code assignment (ref code/one)'], inplace=True)\n",
      "<ipython-input-28-62384a7845e1>:5: SettingWithCopyWarning: \n",
      "A value is trying to be set on a copy of a slice from a DataFrame\n",
      "\n",
      "See the caveats in the documentation: https://pandas.pydata.org/pandas-docs/stable/user_guide/indexing.html#returning-a-view-versus-a-copy\n",
      "  df_sa.drop_duplicates(subset=['CSD Ref code assignment (ref code/one)'], inplace=True)\n"
     ]
    }
   ],
   "source": [
    "df_sa = df_temp[['CSD Ref code assignment (ref code/one)', 'BET SA', 'Langmuir SA']]\n",
    "\n",
    "df_sa.dropna(subset=['CSD Ref code assignment (ref code/one)'], inplace=True)\n",
    "\n",
    "df_sa.drop_duplicates(subset=['CSD Ref code assignment (ref code/one)'], inplace=True)"
   ]
  },
  {
   "cell_type": "code",
   "execution_count": 29,
   "id": "d02ed80b",
   "metadata": {},
   "outputs": [
    {
     "name": "stdout",
     "output_type": "stream",
     "text": [
      "['IYOWID', 'WEBREC', 'TEMPAE', 'TEMPEI', 'LIDWIG', 'CUVWEW', 'DEYVUA', 'EBEWOZ01', 'YEYBOV', 'ZUCKIT', 'POBMOJ01', 'IGINIX', 'IGINOD', 'PUYREH', 'TIRQOB', 'RUGZAW', 'XIGFOJ', 'ALAMUW', 'PUSDIR', 'CIFMIP', 'CIFMEL', 'CIFMAH', 'CIFLUA', 'BUYDAC', 'BUYDEG', 'LASYOU', 'MIHHAN', 'UMEMAB', 'FULYIW', 'LODTEF01', 'BAKJEE', 'BAKJOO', 'XITYOP', 'BOVHEB', 'QIHXIQ', 'VETMIS', 'QOTBAE', 'TIVHAJ', 'SAKNOJ', 'CUYWUP', 'FECZAQ', 'FECYOD', 'FECYUJ', 'EFESEP', 'EFESIT', 'EFESOZ', 'ZARZAV', 'MARNOK', 'LEVLEF', 'MUDKOM', 'AHORAR', 'GAGZEV', 'QOCBEQ', 'FANWOI', 'ECASOS', 'CENPUI', 'CENQAP', 'VICLAW', 'REWNEO', 'AHOLAM', 'CIJBEE', 'VUMBOW', 'VUMBIQ', 'TISHAF', 'KEDQAN', 'XIFHIF', 'DUBXOP', 'QOPZIF', 'ZUJKAS', 'HIYGIH', 'ACUFEK', 'JAMSIC', 'JAMSOI', 'BUBJUF', 'NUVYEK', 'NUVXOT', 'NUVYIO', 'NUVYAG', 'YUGLES', 'CUGXAF', 'NOKLIJ', 'KACZIZ', 'KACZEV', 'VITHIR', 'YUVSUE', 'EQERAU', 'DAZCAK', 'ECOLEP', 'NIMXIS', 'VEBHUG', 'BIDPOV', 'XUBGUY', 'TONQOD', 'AHOZII', 'COJHIT', 'YIJYOH', 'LASDEQ', 'TISPAO', 'KANMIX', 'QOZSIJ', 'NEXVET', 'HUJGEA', 'BIYTEJ', 'PEMREG', 'KETHEY02', 'DOZCEC', 'OYUJUO', 'RIDGIW', 'PATWOY', 'FECXES', 'FECXAO', 'GIYJAB', 'FIDRIV', 'FUFBEP', 'EHIJAH', 'EQETAX', 'JUXFOZ', 'SERLEI', 'LENKIA', 'WOGHEG', 'XALXUF', 'MEHMET', 'PEMRIK', 'KIDVIE', 'UZARUK', 'YAZFOW', 'LUKLIN', 'KAFTUI', 'OGOJAX', 'WOBQEL', 'FOTNIN', 'UXINUL', 'BOYCEY', 'BUFPIC', 'OHUKIM', 'HANWAW', 'COZMUA', 'EWUCOP', 'OTAXOX', 'KEQJEX', 'QEJYIP', 'PEQWAK', 'XIVTED', 'OGEBAF01', 'XOXMED', 'RUHDEF', 'XUXPUD', 'MACHIJ', 'DOKDEN', 'UTULUR', 'MAKXAZ', 'WAGYUA', 'GEGDED', 'SARNOQ', 'BUSQIQ', 'XULGIW', 'ISOJOQ', 'YOTHEW', 'OPENUT', 'PUJJEL']\n",
      "[4043.0, 101.0, 1735.0, 1041.0, 95.5, 20.0, 403.0, 585.0, 385.0, 2400.0, 820.0, 196.0, 41.0, 625.0, 150.0, 415.0, 880.0, 2300.0, 824.0, 240.6, 17.4, 132.3, 121.6, 255.5, 288.7, 967.0, 790.0, 230.0, 36.0, 30.0, 900.0, 654.0, 1753.0, 387.0, 533.0, 961.0, 587.3, 155.0, 1067.0, 382.0, 1612.0, 1167.0, 1163.0, 736.0, 823.0, 818.0, 512.0, 72.0, 438.1, 782.0, 381.0, 6143.0, 141.2, 969.0, 69.0, 1457.0, 1457.0, 275.8, 3120.0, 27.0, 771.0, 1.1, 2.8, 1121.0, 588.0, 1005.6, 2052.0, 1062.0, 490.0, 2171.0, 3800.0, 584.0, 687.0, 125.0, 1410.0, 1600.0, 2420.0, 1380.0, 1852.0, 675.0, 1312.0, 1716.0, 1496.0, 330.0, 1040.0, 810.0, 1372.0, 202.0, 969.0, 3409.0, 2366.0, 1039.0, 796.0, 421.0, 2670.0, 7.52, 2010.0, 97.0, 1003.0, 1986.0, 3300.0, 2025.0, 279.0, 500.0, 231.31, 206.5, 1255.0, 900.0, 1356.2, 1115.0, 1014.0, 332.5, 407.5, 244.0, 2532.0, 969.8, 21.9, 2823.0, 734.0, 342.0, 2170.0, 2420.0, 1175.0, 420.0, 472.2, 1065.0, 4237.0, 378.0, 2297.0, 345.0, 2008.0, 32.0, 2960.0, 2930.0, 4030.0, 605.9, 356.0, 810.0, 120.0, 523.0, 498.2, 191.0, 2646.0, 3337.0, 400.0, 911.0, 3270.0, 1603.0, 1715.0, 63.0, 88.4, 90.11, 1733.0, 780.0, 308.0, 3940.6, 497.0, 781.0, 502.0, 1074.0]\n"
     ]
    }
   ],
   "source": [
    "import numpy as np\n",
    "\n",
    "final_ref = []\n",
    "final_sa = []\n",
    "\n",
    "refs = df_sa['CSD Ref code assignment (ref code/one)'].tolist()\n",
    "bets = df_sa['BET SA'].tolist()\n",
    "langmuirs = df_sa['Langmuir SA'].tolist()\n",
    "langmuir_subset = []\n",
    "for i, j, k in zip(refs, bets, langmuirs):\n",
    "    if ' ' in i:\n",
    "        continue\n",
    "    else:\n",
    "        if np.isnan(j) and not np.isnan(k):\n",
    "            #print(i, j, k)\n",
    "            langmuir_subset.append(i)\n",
    "            final_ref.append(i)\n",
    "            final_sa.append(k)\n",
    "        elif np.isnan(j) and np.isnan(k):\n",
    "            continue\n",
    "        else:\n",
    "            final_ref.append(i)\n",
    "            final_sa.append(j)\n",
    "            \n",
    "print(final_ref)            \n",
    "print(final_sa)"
   ]
  },
  {
   "cell_type": "code",
   "execution_count": null,
   "id": "7b951c32",
   "metadata": {},
   "outputs": [],
   "source": []
  },
  {
   "cell_type": "code",
   "execution_count": null,
   "id": "f0d62d4b",
   "metadata": {},
   "outputs": [],
   "source": []
  }
 ],
 "metadata": {
  "kernelspec": {
   "display_name": "Python 3",
   "language": "python",
   "name": "python3"
  },
  "language_info": {
   "codemirror_mode": {
    "name": "ipython",
    "version": 3
   },
   "file_extension": ".py",
   "mimetype": "text/x-python",
   "name": "python",
   "nbconvert_exporter": "python",
   "pygments_lexer": "ipython3",
   "version": "3.8.8"
  }
 },
 "nbformat": 4,
 "nbformat_minor": 5
}
