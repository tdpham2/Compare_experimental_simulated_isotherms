{
 "cells": [
  {
   "cell_type": "code",
   "execution_count": 1,
   "id": "9f39d61c",
   "metadata": {},
   "outputs": [],
   "source": [
    "import glob\n",
    "import json\n",
    "import os\n",
    "from collections import defaultdict\n",
    "import matplotlib.pyplot as plt\n",
    "import pandas as pd"
   ]
  },
  {
   "cell_type": "code",
   "execution_count": 2,
   "id": "81d2db1e",
   "metadata": {},
   "outputs": [],
   "source": [
    "path_to_doi = 'csd/matched_CIFs_and_DOI'\n",
    "\n"
   ]
  },
  {
   "cell_type": "code",
   "execution_count": 3,
   "id": "a7ccfe6a",
   "metadata": {},
   "outputs": [],
   "source": [
    "isotherms = glob.glob(os.path.join(path_to_doi, '*/', '*.json'))\n"
   ]
  },
  {
   "cell_type": "code",
   "execution_count": 4,
   "id": "919f2149",
   "metadata": {},
   "outputs": [],
   "source": [
    "multi_component_isotherms = []\n",
    "adsorbate_dict = defaultdict(lambda:0)\n",
    "\n",
    "for count, iso in enumerate(isotherms):\n",
    "    with open(iso, 'r') as f:\n",
    "        data = json.load(f)\n",
    "    adsorbates = data['adsorbates']\n",
    "    if len(adsorbates) > 1:\n",
    "        multi_component_isotherms.append(iso)\n",
    "    else:\n",
    "        adsorbate_name = data['adsorbates'][0]['name']\n",
    "        adsorbate_dict[adsorbate_name] += 1\n",
    "\n"
   ]
  },
  {
   "cell_type": "code",
   "execution_count": 5,
   "id": "6ca048a4",
   "metadata": {},
   "outputs": [
    {
     "data": {
      "text/plain": [
       "{'Carbon Dioxide': 1539,\n",
       " 'Methane': 778,\n",
       " 'Hydrogen': 997,\n",
       " 'Nitrogen': 1366,\n",
       " 'Ethene': 109,\n",
       " 'Ethane': 91,\n",
       " 'Oxygen': 157,\n",
       " 'Methanol': 157,\n",
       " 'Water': 172,\n",
       " 'Ethanol': 98,\n",
       " 'Benzene': 50,\n",
       " 'Acetylene': 132,\n",
       " 'Nitric oxide': 17,\n",
       " 'N-propane': 57,\n",
       " 'Argon': 118,\n",
       " 'Carbon monoxide': 56,\n",
       " 'Isobutane': 8,\n",
       " '2-Methylbutane': 3,\n",
       " 'N-Butane': 15,\n",
       " 'N-Pentane': 5,\n",
       " 'Tetrahydrofuran': 2,\n",
       " 'Deuterium': 6,\n",
       " 'Acetone': 16,\n",
       " 'P-Xylene': 27,\n",
       " 'M-Xylene': 4,\n",
       " '1-Propanol': 31,\n",
       " 'Trichloromethane': 1,\n",
       " 'Diethyl ether': 1,\n",
       " 'N-Hexane': 19,\n",
       " 'Toluene': 20,\n",
       " '2-Propanol': 8,\n",
       " 'Propene': 25,\n",
       " 'Cyclohexane': 41,\n",
       " 'Acetonitrile': 15,\n",
       " 'Helium': 1,\n",
       " 'Dimethyl ether': 8,\n",
       " 'Mercury Dichloride': 4,\n",
       " 'Hydrogen sulfide': 2,\n",
       " '1-Butanol': 14,\n",
       " 'Xenon': 10,\n",
       " 'Sulfur dioxide': 5,\n",
       " 'Acetaldehyde': 1,\n",
       " 'Styrene': 1,\n",
       " 'Ethylbenzene': 7,\n",
       " 'Ammonia': 2,\n",
       " '1-Pentanol': 2,\n",
       " 'Pyridine': 1,\n",
       " 'Tert-Butanol': 1,\n",
       " 'Isobutanol': 1,\n",
       " 'O-Xylene': 1,\n",
       " 'Sulfur Hexafluoride': 2,\n",
       " 'Carbon Tetrachloride': 1,\n",
       " 'Neon': 2,\n",
       " 'Krypton': 3,\n",
       " 'Nitrobenzene': 1}"
      ]
     },
     "execution_count": 5,
     "metadata": {},
     "output_type": "execute_result"
    }
   ],
   "source": [
    "dict(adsorbate_dict)"
   ]
  },
  {
   "cell_type": "code",
   "execution_count": 18,
   "id": "ca6278e9",
   "metadata": {},
   "outputs": [
    {
     "name": "stderr",
     "output_type": "stream",
     "text": [
      "<ipython-input-18-b8dbfc63c5b4>:5: SettingWithCopyWarning: \n",
      "A value is trying to be set on a copy of a slice from a DataFrame\n",
      "\n",
      "See the caveats in the documentation: https://pandas.pydata.org/pandas-docs/stable/user_guide/indexing.html#returning-a-view-versus-a-copy\n",
      "  df_adsorbate_plot.sort_values(by='Count', inplace=True, ascending=False)\n"
     ]
    },
    {
     "data": {
      "image/png": "[encoded data removed]",
      "text/plain": [
       "<Figure size 432x288 with 1 Axes>"
      ]
     },
     "metadata": {
      "needs_background": "light"
     },
     "output_type": "display_data"
    }
   ],
   "source": [
    "df_adsorbate_dict = pd.DataFrame.from_dict(dict(adsorbate_dict),  orient='index').reset_index()\n",
    "df_adsorbate_dict.rename(columns={'index':'Adsorbate', 0:'Count'}, inplace=True)\n",
    "\n",
    "df_adsorbate_plot = df_adsorbate_dict[df_adsorbate_dict['Count'] > 20]\n",
    "df_adsorbate_plot.sort_values(by='Count', inplace=True, ascending=False)\n",
    "\n",
    "fig, ax = plt.subplots()\n",
    "ax.bar(df_adsorbate_plot['Adsorbate'], df_adsorbate_plot['Count'])\n",
    "plt.xticks(rotation=90)\n",
    "ax.set_ylabel('Number of Isotherms', fontsize=18)\n",
    "fig.savefig('/home/tdpham/software/Compare_experimental_simulated_isotherms/figures/Isotherm_distribution.png', dpi=600, bbox_inches='tight')"
   ]
  },
  {
   "cell_type": "code",
   "execution_count": 12,
   "id": "642ec280",
   "metadata": {},
   "outputs": [],
   "source": [
    "def get_isotherm_json(fname, interested_adsorbates=['Methane', 'Hydrogen', 'Nitrogen', 'Carbon Dioxide']):\n",
    "    f = open(fname)\n",
    "    data = json.load(f)\n",
    "    f.close()\n",
    "\n",
    "    adsorbates = data['adsorbates']\n",
    "    if len(adsorbates) == 1:\n",
    "        adsorbate_name = data['adsorbates'][0]['name']\n",
    "    else:\n",
    "        print('Multiple adsorbates in {}'.format(fname))\n",
    "        return 'Error'\n",
    "    \n",
    "    if adsorbate_name in interested_adsorbates:\n",
    "        \n",
    "        adsorbent_name = data['adsorbent']['name']\n",
    "        units = data['adsorptionUnits']\n",
    "        isotherm_data = data['isotherm_data']\n",
    "        pressure_unit = data['pressureUnits']\n",
    "        temperature = data['temperature']\n",
    "        pressures = [item['pressure'] for item in isotherm_data]\n",
    "        pmin = min(pressures)\n",
    "        pmax = max(pressures)\n",
    "\n",
    "        uptakes = [item['species_data'][0]['adsorption'] for item in isotherm_data]\n",
    "        umin = min(uptakes)\n",
    "        umax = max(uptakes)\n",
    "\n",
    "        adsorption_units = data['adsorptionUnits']\n",
    "\n",
    "        return [adsorbent_name, adsorbate_name, temperature, pressure_unit, adsorption_units, pmin, umin, pmax, umax]\n",
    "    else:\n",
    "        return 'Error'"
   ]
  },
  {
   "cell_type": "code",
   "execution_count": 13,
   "id": "6cd4e267",
   "metadata": {},
   "outputs": [
    {
     "data": {
      "text/plain": [
       "['YO-MOF',\n",
       " 'Nitrogen',\n",
       " 77,\n",
       " 'bar',\n",
       " 'cm3(STP)/g',\n",
       " 0.00264719,\n",
       " 0.00264719,\n",
       " 0.931812,\n",
       " 291.923]"
      ]
     },
     "execution_count": 13,
     "metadata": {},
     "output_type": "execute_result"
    }
   ],
   "source": [
    "get_isotherm_json('/home/tdpham/software/Compare_experimental_simulated_isotherms/simulated_isotherms/N2/10.1002chem.200902104/10.1002chem.200902104.Isotherm7.json')"
   ]
  },
  {
   "cell_type": "code",
   "execution_count": 18,
   "id": "f5718a2f",
   "metadata": {},
   "outputs": [
    {
     "name": "stdout",
     "output_type": "stream",
     "text": [
      "Multiple adsorbates in csd/matched_CIFs_and_DOI/10.1021jacs.9b10923/10.1021jacs.9b10923.Isotherm1.json\n",
      "Multiple adsorbates in csd/matched_CIFs_and_DOI/10.1016j.molstruc.2017.04.099/10.1016j.molstruc.2017.04.099.Isotherm1.json\n",
      "Multiple adsorbates in csd/matched_CIFs_and_DOI/10.1021jacs.8b07563/10.1021jacs.8b07563.Isotherm1.json\n",
      "Multiple adsorbates in csd/matched_CIFs_and_DOI/10.1021jacs.8b07563/10.1021jacs.8b07563.Isotherm2.json\n",
      "Multiple adsorbates in csd/matched_CIFs_and_DOI/10.1021acsami.8b13362/10.1021acsami.8b13362.Isotherm1.json\n",
      "Multiple adsorbates in csd/matched_CIFs_and_DOI/10.1021acsami.8b13362/10.1021acsami.8b13362.Isotherm2.json\n",
      "Multiple adsorbates in csd/matched_CIFs_and_DOI/10.1021acsami.8b13362/10.1021acsami.8b13362.Isotherm3.json\n",
      "Multiple adsorbates in csd/matched_CIFs_and_DOI/10.1021acsami.8b13362/10.1021acsami.8b13362.Isotherm4.json\n",
      "Multiple adsorbates in csd/matched_CIFs_and_DOI/10.1021acsami.8b13362/10.1021acsami.8b13362.Isotherm5.json\n",
      "Multiple adsorbates in csd/matched_CIFs_and_DOI/10.1021acsami.8b13362/10.1021acsami.8b13362.Isotherm6.json\n",
      "Multiple adsorbates in csd/matched_CIFs_and_DOI/10.1021acs.jpcc.5b02359/10.1021acs.jpcc.5b02359.Isotherm1.json\n",
      "Multiple adsorbates in csd/matched_CIFs_and_DOI/10.1021acs.jpcc.5b02359/10.1021acs.jpcc.5b02359.Isotherm2.json\n",
      "Multiple adsorbates in csd/matched_CIFs_and_DOI/10.1021acs.jpcc.5b02359/10.1021acs.jpcc.5b02359.Isotherm3.json\n",
      "Multiple adsorbates in csd/matched_CIFs_and_DOI/10.1002cplu.201500278/10.1002cplu.201500278.Isotherm1.json\n",
      "Multiple adsorbates in csd/matched_CIFs_and_DOI/10.1002cplu.201500278/10.1002cplu.201500278.Isotherm2.json\n",
      "Multiple adsorbates in csd/matched_CIFs_and_DOI/10.1016j.cej.2018.07.104/10.1016j.cej.2018.07.104.Isotherm1.json\n",
      "Multiple adsorbates in csd/matched_CIFs_and_DOI/10.1039c6dt02150f/10.1039c6dt02150f.Isotherm1.json\n",
      "Multiple adsorbates in csd/matched_CIFs_and_DOI/10.1039c6dt02150f/10.1039c6dt02150f.Isotherm2.json\n",
      "Multiple adsorbates in csd/matched_CIFs_and_DOI/10.1021jacs.9b00913/10.1021jacs.9b00913.Isotherm1.json\n",
      "Multiple adsorbates in csd/matched_CIFs_and_DOI/10.1021acs.cgd.5b00675/10.1021acs.cgd.5b00675.Isotherm11.json\n",
      "Multiple adsorbates in csd/matched_CIFs_and_DOI/10.1021acs.cgd.5b00675/10.1021acs.cgd.5b00675.Isotherm12.json\n",
      "Multiple adsorbates in csd/matched_CIFs_and_DOI/10.1021acs.cgd.5b00675/10.1021acs.cgd.5b00675.Isotherm13.json\n",
      "Multiple adsorbates in csd/matched_CIFs_and_DOI/10.1021acs.cgd.5b00675/10.1021acs.cgd.5b00675.Isotherm14.json\n",
      "Multiple adsorbates in csd/matched_CIFs_and_DOI/10.1021acs.cgd.5b00675/10.1021acs.cgd.5b00675.Isotherm15.json\n",
      "Multiple adsorbates in csd/matched_CIFs_and_DOI/10.1021acs.cgd.5b00675/10.1021acs.cgd.5b00675.Isotherm16.json\n",
      "Multiple adsorbates in csd/matched_CIFs_and_DOI/10.1021ic502733v/10.1021ic502733v.Isotherm1.json\n",
      "Multiple adsorbates in csd/matched_CIFs_and_DOI/10.1021ic502733v/10.1021ic502733v.Isotherm2.json\n",
      "Multiple adsorbates in csd/matched_CIFs_and_DOI/10.1021ic502733v/10.1021ic502733v.Isotherm3.json\n",
      "Multiple adsorbates in csd/matched_CIFs_and_DOI/10.1021ic502733v/10.1021ic502733v.Isotherm4.json\n",
      "Multiple adsorbates in csd/matched_CIFs_and_DOI/10.1021acs.cgd.6b01054/10.1021acs.cgd.6b01054.Isotherm1.json\n"
     ]
    }
   ],
   "source": [
    "dois = glob.glob(path_to_doi + '/*/')\n",
    "for doi in dois:\n",
    "    isotherms = sorted(glob.glob(doi + '/*json'))\n",
    "    cifs = glob.glob(doi + '/*.cif')\n",
    "    cifs = [i.split('/')[-1] for i in cifs]\n",
    "    cifs = [i[:-4] for i in cifs]\n",
    "    ncifs = len(cifs)\n",
    "    for iso in isotherms:\n",
    "        results = get_isotherm_json(iso)\n",
    "        if results == 'Error':\n",
    "            continue\n",
    "        else:\n",
    "            with open('isotherm_data.csv', 'a') as f:\n",
    "                doi = iso.split('/')[-2]\n",
    "                iso_name = iso.split('/')[-1]\n",
    "                f.write('{},{},{},{},{},{},{},{},{},{},{},{},{}\\n'.format(\n",
    "                    doi,\n",
    "                    iso_name,\n",
    "                    results[0],\n",
    "                    results[1],\n",
    "                    results[2],\n",
    "                    results[3],\n",
    "                    results[4],\n",
    "                    results[5],\n",
    "                    results[6],\n",
    "                    results[7],\n",
    "                    results[8],\n",
    "                    ncifs,\n",
    "                    '/'.join(cifs)               \n",
    "\n",
    "                ))\n"
   ]
  },
  {
   "cell_type": "code",
   "execution_count": null,
   "id": "bde67f4f",
   "metadata": {},
   "outputs": [],
   "source": []
  }
 ],
 "metadata": {
  "kernelspec": {
   "display_name": "Python 3",
   "language": "python",
   "name": "python3"
  },
  "language_info": {
   "codemirror_mode": {
    "name": "ipython",
    "version": 3
   },
   "file_extension": ".py",
   "mimetype": "text/x-python",
   "name": "python",
   "nbconvert_exporter": "python",
   "pygments_lexer": "ipython3",
   "version": "3.8.8"
  }
 },
 "nbformat": 4,
 "nbformat_minor": 5
}
