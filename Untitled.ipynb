{
 "cells": [
  {
   "cell_type": "code",
   "execution_count": null,
   "id": "5baa8e4d",
   "metadata": {},
   "outputs": [],
   "source": [
    "from ccdc import io"
   ]
  }
 ],
 "metadata": {
  "kernelspec": {
   "display_name": "ccdc_env",
   "language": "python",
   "name": "ccdc_env"
  },
  "language_info": {
   "codemirror_mode": {
    "name": "ipython",
    "version": 3
   },
   "file_extension": ".py",
   "mimetype": "text/x-python",
   "name": "python",
   "nbconvert_exporter": "python",
   "pygments_lexer": "ipython3",
   "version": "3.8.8"
  }
 },
 "nbformat": 4,
 "nbformat_minor": 5
}
